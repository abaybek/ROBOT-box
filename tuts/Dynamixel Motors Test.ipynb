{
 "cells": [
  {
   "cell_type": "code",
   "execution_count": null,
   "metadata": {},
   "outputs": [],
   "source": [
    "# Goal\n",
    "\n",
    "# 1. Run single motor\n",
    "# 2. Set another id \n",
    "# 3. Try change venichele mode"
   ]
  },
  {
   "cell_type": "code",
   "execution_count": 23,
   "metadata": {},
   "outputs": [],
   "source": [
    "import itertools\n",
    "import numpy\n",
    "import time\n",
    "\n",
    "import pypot.dynamixel\n",
    "\n",
    "AMP = 30\n",
    "FREQ = 0.5\n"
   ]
  },
  {
   "cell_type": "code",
   "execution_count": 24,
   "metadata": {},
   "outputs": [
    {
     "name": "stdout",
     "output_type": "stream",
     "text": [
      "available ports: ['/dev/ttyUSB1']\n"
     ]
    }
   ],
   "source": [
    "ports = pypot.dynamixel.get_available_ports()\n",
    "print('available ports:', ports)\n",
    "\n",
    "if not ports:\n",
    "    raise IOError('No port available.')\n"
   ]
  },
  {
   "cell_type": "code",
   "execution_count": 25,
   "metadata": {},
   "outputs": [
    {
     "name": "stdout",
     "output_type": "stream",
     "text": [
      "Using the first on the list /dev/ttyUSB1\n"
     ]
    }
   ],
   "source": [
    "port = ports[0]\n",
    "print('Using the first on the list', port)\n"
   ]
  },
  {
   "cell_type": "code",
   "execution_count": 26,
   "metadata": {},
   "outputs": [
    {
     "name": "stdout",
     "output_type": "stream",
     "text": [
      "Connected!\n"
     ]
    }
   ],
   "source": [
    "dxl_io = pypot.dynamixel.DxlIO(port)\n",
    "print('Connected!')"
   ]
  },
  {
   "cell_type": "code",
   "execution_count": 27,
   "metadata": {},
   "outputs": [
    {
     "name": "stdout",
     "output_type": "stream",
     "text": [
      "Found ids: [2, 3, 4, 5]\n"
     ]
    }
   ],
   "source": [
    "found_ids = dxl_io.scan()\n",
    "print('Found ids:', found_ids)\n"
   ]
  },
  {
   "cell_type": "code",
   "execution_count": 28,
   "metadata": {},
   "outputs": [],
   "source": [
    "ids = found_ids[:]"
   ]
  },
  {
   "cell_type": "code",
   "execution_count": 29,
   "metadata": {},
   "outputs": [],
   "source": [
    "dxl_io.set_joint_mode(ids)"
   ]
  },
  {
   "cell_type": "code",
   "execution_count": 30,
   "metadata": {},
   "outputs": [],
   "source": [
    "dxl_io.close()"
   ]
  },
  {
   "cell_type": "code",
   "execution_count": null,
   "metadata": {},
   "outputs": [],
   "source": [
    "dxl_io.enable_torque(ids)"
   ]
  },
  {
   "cell_type": "code",
   "execution_count": null,
   "metadata": {},
   "outputs": [],
   "source": [
    "speed = dict(zip(ids, itertools.repeat(200)))\n",
    "dxl_io.set_moving_speed(speed)\n",
    "pos = dict(zip(ids, itertools.repeat(90)))\n",
    "dxl_io.set_goal_position(pos)"
   ]
  },
  {
   "cell_type": "code",
   "execution_count": null,
   "metadata": {},
   "outputs": [],
   "source": [
    "AMP = 90\n",
    "FREQ = 0.5\n",
    "\n",
    "\n",
    "t0 = time.time()\n",
    "while True:\n",
    "    t = time.time()\n",
    "    if (t - t0) > 10:\n",
    "        break\n",
    "\n",
    "    pos = AMP * numpy.sin(2 * numpy.pi * FREQ * t)\n",
    "    dxl_io.set_goal_position(dict(zip(ids, itertools.repeat(pos))))\n",
    "\n",
    "    time.sleep(0.02)\n",
    "\n",
    "print('Time spended: ', time.time() - t0)\n"
   ]
  },
  {
   "cell_type": "code",
   "execution_count": null,
   "metadata": {},
   "outputs": [],
   "source": [
    "dxl_io.set(ids)"
   ]
  },
  {
   "cell_type": "code",
   "execution_count": null,
   "metadata": {},
   "outputs": [],
   "source": [
    "dxl_io.set_moving_speed(dict(zip(ids, itertools.repeat(0))))"
   ]
  },
  {
   "cell_type": "code",
   "execution_count": null,
   "metadata": {},
   "outputs": [],
   "source": []
  },
  {
   "cell_type": "markdown",
   "metadata": {},
   "source": [
    "# Write config file"
   ]
  },
  {
   "cell_type": "code",
   "execution_count": null,
   "metadata": {},
   "outputs": [],
   "source": [
    "my_config = {}\n",
    "my_config['controllers'] = {}"
   ]
  },
  {
   "cell_type": "code",
   "execution_count": null,
   "metadata": {},
   "outputs": [],
   "source": [
    "my_config['controllers']['body'] = {\n",
    "    'port': '/dev/ttyUSB0',\n",
    "    'sync_read': False,\n",
    "    \n",
    "}"
   ]
  },
  {
   "cell_type": "code",
   "execution_count": 31,
   "metadata": {},
   "outputs": [],
   "source": [
    "from pypot.dynamixel import autodetect_robot\n"
   ]
  },
  {
   "cell_type": "code",
   "execution_count": 32,
   "metadata": {},
   "outputs": [],
   "source": [
    "my_robot = autodetect_robot()\n"
   ]
  },
  {
   "cell_type": "code",
   "execution_count": 33,
   "metadata": {},
   "outputs": [
    {
     "data": {
      "text/plain": [
       "<Robot motors=[<DxlMotor name=motor_2 id=2 pos=-150.0>, <DxlMotor name=motor_3 id=3 pos=-149.71>, <DxlMotor name=motor_4 id=4 pos=-150.0>, <DxlMotor name=motor_5 id=5 pos=-149.71>]>"
      ]
     },
     "execution_count": 33,
     "metadata": {},
     "output_type": "execute_result"
    }
   ],
   "source": [
    "my_robot"
   ]
  },
  {
   "cell_type": "code",
   "execution_count": 36,
   "metadata": {},
   "outputs": [],
   "source": [
    "for m in my_robot.motors:\n",
    "    m.goal_position = 60"
   ]
  },
  {
   "cell_type": "code",
   "execution_count": null,
   "metadata": {},
   "outputs": [],
   "source": []
  },
  {
   "cell_type": "code",
   "execution_count": 37,
   "metadata": {},
   "outputs": [],
   "source": [
    "# Put the robot in its initial position\n",
    "for m in my_robot.motors: # Note that we always provide an alias for all motors.\n",
    "    m.compliant = False\n",
    "    m.goal_position = 90"
   ]
  },
  {
   "cell_type": "code",
   "execution_count": 38,
   "metadata": {},
   "outputs": [
    {
     "data": {
      "text/plain": [
       "[2, 3, 4, 5]"
      ]
     },
     "execution_count": 38,
     "metadata": {},
     "output_type": "execute_result"
    }
   ],
   "source": []
  },
  {
   "cell_type": "code",
   "execution_count": 46,
   "metadata": {},
   "outputs": [
    {
     "ename": "NameError",
     "evalue": "name 'plot' is not defined",
     "output_type": "error",
     "traceback": [
      "\u001b[0;31m---------------------------------------------------------------------------\u001b[0m",
      "\u001b[0;31mNameError\u001b[0m                                 Traceback (most recent call last)",
      "\u001b[0;32m<ipython-input-46-73a384a01bed>\u001b[0m in \u001b[0;36m<module>\u001b[0;34m()\u001b[0m\n\u001b[1;32m     14\u001b[0m \u001b[0;31m# By applying a cosinus on the speed\u001b[0m\u001b[0;34m\u001b[0m\u001b[0;34m\u001b[0m\u001b[0m\n\u001b[1;32m     15\u001b[0m \u001b[0;31m# You observe a sinusoid on the position\u001b[0m\u001b[0;34m\u001b[0m\u001b[0;34m\u001b[0m\u001b[0m\n\u001b[0;32m---> 16\u001b[0;31m \u001b[0mplot\u001b[0m\u001b[0;34m(\u001b[0m\u001b[0mpositions\u001b[0m\u001b[0;34m)\u001b[0m\u001b[0;34m\u001b[0m\u001b[0m\n\u001b[0m",
      "\u001b[0;31mNameError\u001b[0m: name 'plot' is not defined"
     ]
    },
    {
     "name": "stderr",
     "output_type": "stream",
     "text": [
      "Exception in thread Thread-13:\n",
      "Traceback (most recent call last):\n",
      "  File \"/home/xyz/Program/miniconda3/envs/robot/lib/python3.6/site-packages/pypot/dynamixel/io/abstract_io.py\", line 511, in __real_read\n",
      "    header = self._protocol.DxlPacketHeader.from_string(data)\n",
      "  File \"/home/xyz/Program/miniconda3/envs/robot/lib/python3.6/site-packages/pypot/dynamixel/protocol/v1.py\", line 40, in from_string\n",
      "    raise ValueError('try to parse corrupted data ({})'.format(header))\n",
      "ValueError: try to parse corrupted data (bytearray(b'\\x7f|\\x1c\\x00'))\n",
      "\n",
      "During handling of the above exception, another exception occurred:\n",
      "\n",
      "Traceback (most recent call last):\n",
      "  File \"/home/xyz/Program/miniconda3/envs/robot/lib/python3.6/threading.py\", line 916, in _bootstrap_inner\n",
      "    self.run()\n",
      "  File \"/home/xyz/Program/miniconda3/envs/robot/lib/python3.6/threading.py\", line 864, in run\n",
      "    self._target(*self._args, **self._kwargs)\n",
      "  File \"/home/xyz/Program/miniconda3/envs/robot/lib/python3.6/site-packages/pypot/utils/stoppablethread.py\", line 130, in _wrapped_target\n",
      "    self._target()\n",
      "  File \"/home/xyz/Program/miniconda3/envs/robot/lib/python3.6/site-packages/pypot/utils/stoppablethread.py\", line 205, in run\n",
      "    make_update_loop(self, self._update)\n",
      "  File \"/home/xyz/Program/miniconda3/envs/robot/lib/python3.6/site-packages/pypot/utils/stoppablethread.py\", line 175, in make_update_loop\n",
      "    update_func()\n",
      "  File \"/home/xyz/Program/miniconda3/envs/robot/lib/python3.6/site-packages/pypot/dynamixel/controller.py\", line 163, in update\n",
      "    self.get_present_position_speed_load(self.working_motors)\n",
      "  File \"/home/xyz/Program/miniconda3/envs/robot/lib/python3.6/site-packages/pypot/dynamixel/controller.py\", line 168, in get_present_position_speed_load\n",
      "    values = self.io.get_present_position_speed_load(ids)\n",
      "  File \"/home/xyz/Program/miniconda3/envs/robot/lib/python3.6/site-packages/pypot/dynamixel/io/abstract_io.py\", line 358, in my_getter\n",
      "    return self._get_control_value(control, ids, **kwargs)\n",
      "  File \"/home/xyz/Program/miniconda3/envs/robot/lib/python3.6/site-packages/pypot/dynamixel/io/abstract_io.py\", line 413, in _get_control_value\n",
      "    sp = self._send_packet(rp, error_handler=error_handler)\n",
      "  File \"/home/xyz/Program/miniconda3/envs/robot/lib/python3.6/site-packages/pypot/dynamixel/io/abstract_io.py\", line 527, in _send_packet\n",
      "    return self.__real_send(instruction_packet, wait_for_status_packet, _force_lock)\n",
      "  File \"/home/xyz/Program/miniconda3/envs/robot/lib/python3.6/site-packages/pypot/dynamixel/io/abstract_io.py\", line 495, in __real_send\n",
      "    status_packet = self.__real_read(instruction_packet, _force_lock=True)\n",
      "  File \"/home/xyz/Program/miniconda3/envs/robot/lib/python3.6/site-packages/pypot/dynamixel/io/abstract_io.py\", line 517, in __real_read\n",
      "    raise DxlCommunicationError(self, msg, instruction_packet)\n",
      "pypot.dynamixel.io.abstract_io.DxlCommunicationError: could not parse received data bytearray(b'\\x7f|\\x1c\\x00') after sending DxlReadDataPacket(id=2, address=36, length=6)\n",
      "\n",
      "Exception in thread Thread-14:\n",
      "Traceback (most recent call last):\n",
      "  File \"/home/xyz/Program/miniconda3/envs/robot/lib/python3.6/site-packages/pypot/dynamixel/io/abstract_io.py\", line 511, in __real_read\n",
      "    header = self._protocol.DxlPacketHeader.from_string(data)\n",
      "  File \"/home/xyz/Program/miniconda3/envs/robot/lib/python3.6/site-packages/pypot/dynamixel/protocol/v1.py\", line 40, in from_string\n",
      "    raise ValueError('try to parse corrupted data ({})'.format(header))\n",
      "ValueError: try to parse corrupted data (bytearray(b'\\x00'))\n",
      "\n",
      "During handling of the above exception, another exception occurred:\n",
      "\n",
      "Traceback (most recent call last):\n",
      "  File \"/home/xyz/Program/miniconda3/envs/robot/lib/python3.6/threading.py\", line 916, in _bootstrap_inner\n",
      "    self.run()\n",
      "  File \"/home/xyz/Program/miniconda3/envs/robot/lib/python3.6/threading.py\", line 864, in run\n",
      "    self._target(*self._args, **self._kwargs)\n",
      "  File \"/home/xyz/Program/miniconda3/envs/robot/lib/python3.6/site-packages/pypot/utils/stoppablethread.py\", line 130, in _wrapped_target\n",
      "    self._target()\n",
      "  File \"/home/xyz/Program/miniconda3/envs/robot/lib/python3.6/site-packages/pypot/utils/stoppablethread.py\", line 205, in run\n",
      "    make_update_loop(self, self._update)\n",
      "  File \"/home/xyz/Program/miniconda3/envs/robot/lib/python3.6/site-packages/pypot/utils/stoppablethread.py\", line 175, in make_update_loop\n",
      "    update_func()\n",
      "  File \"/home/xyz/Program/miniconda3/envs/robot/lib/python3.6/site-packages/pypot/dynamixel/controller.py\", line 59, in update\n",
      "    if self.mode == 'get' else\n",
      "  File \"/home/xyz/Program/miniconda3/envs/robot/lib/python3.6/site-packages/pypot/dynamixel/controller.py\", line 129, in get_register\n",
      "    values = self.io.get_angle_limit(ids)\n",
      "  File \"/home/xyz/Program/miniconda3/envs/robot/lib/python3.6/site-packages/pypot/dynamixel/io/abstract_io.py\", line 358, in my_getter\n",
      "    return self._get_control_value(control, ids, **kwargs)\n",
      "  File \"/home/xyz/Program/miniconda3/envs/robot/lib/python3.6/site-packages/pypot/dynamixel/io/abstract_io.py\", line 413, in _get_control_value\n",
      "    sp = self._send_packet(rp, error_handler=error_handler)\n",
      "  File \"/home/xyz/Program/miniconda3/envs/robot/lib/python3.6/site-packages/pypot/dynamixel/io/abstract_io.py\", line 527, in _send_packet\n",
      "    return self.__real_send(instruction_packet, wait_for_status_packet, _force_lock)\n",
      "  File \"/home/xyz/Program/miniconda3/envs/robot/lib/python3.6/site-packages/pypot/dynamixel/io/abstract_io.py\", line 495, in __real_send\n",
      "    status_packet = self.__real_read(instruction_packet, _force_lock=True)\n",
      "  File \"/home/xyz/Program/miniconda3/envs/robot/lib/python3.6/site-packages/pypot/dynamixel/io/abstract_io.py\", line 517, in __real_read\n",
      "    raise DxlCommunicationError(self, msg, instruction_packet)\n",
      "pypot.dynamixel.io.abstract_io.DxlCommunicationError: could not parse received data bytearray(b'\\x00') after sending DxlReadDataPacket(id=3, address=6, length=4)\n",
      "\n",
      "Exception in thread Thread-16:\n",
      "Traceback (most recent call last):\n",
      "  File \"/home/xyz/Program/miniconda3/envs/robot/lib/python3.6/site-packages/pypot/dynamixel/io/abstract_io.py\", line 511, in __real_read\n",
      "    header = self._protocol.DxlPacketHeader.from_string(data)\n",
      "  File \"/home/xyz/Program/miniconda3/envs/robot/lib/python3.6/site-packages/pypot/dynamixel/protocol/v1.py\", line 40, in from_string\n",
      "    raise ValueError('try to parse corrupted data ({})'.format(header))\n",
      "ValueError: try to parse corrupted data (bytearray(b'\\x00'))\n",
      "\n",
      "During handling of the above exception, another exception occurred:\n",
      "\n",
      "Traceback (most recent call last):\n",
      "  File \"/home/xyz/Program/miniconda3/envs/robot/lib/python3.6/threading.py\", line 916, in _bootstrap_inner\n",
      "    self.run()\n",
      "  File \"/home/xyz/Program/miniconda3/envs/robot/lib/python3.6/threading.py\", line 864, in run\n",
      "    self._target(*self._args, **self._kwargs)\n",
      "  File \"/home/xyz/Program/miniconda3/envs/robot/lib/python3.6/site-packages/pypot/utils/stoppablethread.py\", line 130, in _wrapped_target\n",
      "    self._target()\n",
      "  File \"/home/xyz/Program/miniconda3/envs/robot/lib/python3.6/site-packages/pypot/utils/stoppablethread.py\", line 205, in run\n",
      "    make_update_loop(self, self._update)\n",
      "  File \"/home/xyz/Program/miniconda3/envs/robot/lib/python3.6/site-packages/pypot/utils/stoppablethread.py\", line 175, in make_update_loop\n",
      "    update_func()\n",
      "  File \"/home/xyz/Program/miniconda3/envs/robot/lib/python3.6/site-packages/pypot/dynamixel/controller.py\", line 59, in update\n",
      "    if self.mode == 'get' else\n",
      "  File \"/home/xyz/Program/miniconda3/envs/robot/lib/python3.6/site-packages/pypot/dynamixel/controller.py\", line 72, in get_register\n",
      "    getter(ids))\n",
      "  File \"/home/xyz/Program/miniconda3/envs/robot/lib/python3.6/site-packages/pypot/dynamixel/io/abstract_io.py\", line 358, in my_getter\n",
      "    return self._get_control_value(control, ids, **kwargs)\n",
      "  File \"/home/xyz/Program/miniconda3/envs/robot/lib/python3.6/site-packages/pypot/dynamixel/io/abstract_io.py\", line 413, in _get_control_value\n",
      "    sp = self._send_packet(rp, error_handler=error_handler)\n",
      "  File \"/home/xyz/Program/miniconda3/envs/robot/lib/python3.6/site-packages/pypot/dynamixel/io/abstract_io.py\", line 527, in _send_packet\n",
      "    return self.__real_send(instruction_packet, wait_for_status_packet, _force_lock)\n",
      "  File \"/home/xyz/Program/miniconda3/envs/robot/lib/python3.6/site-packages/pypot/dynamixel/io/abstract_io.py\", line 495, in __real_send\n",
      "    status_packet = self.__real_read(instruction_packet, _force_lock=True)\n",
      "  File \"/home/xyz/Program/miniconda3/envs/robot/lib/python3.6/site-packages/pypot/dynamixel/io/abstract_io.py\", line 517, in __real_read\n",
      "    raise DxlCommunicationError(self, msg, instruction_packet)\n",
      "pypot.dynamixel.io.abstract_io.DxlCommunicationError: could not parse received data bytearray(b'\\x00') after sending DxlReadDataPacket(id=2, address=43, length=1)\n"
     ]
    },
    {
     "name": "stderr",
     "output_type": "stream",
     "text": [
      "\n",
      "Exception in thread Thread-15:\n",
      "Traceback (most recent call last):\n",
      "  File \"/home/xyz/Program/miniconda3/envs/robot/lib/python3.6/site-packages/pypot/dynamixel/io/abstract_io.py\", line 511, in __real_read\n",
      "    header = self._protocol.DxlPacketHeader.from_string(data)\n",
      "  File \"/home/xyz/Program/miniconda3/envs/robot/lib/python3.6/site-packages/pypot/dynamixel/protocol/v1.py\", line 40, in from_string\n",
      "    raise ValueError('try to parse corrupted data ({})'.format(header))\n",
      "ValueError: try to parse corrupted data (bytearray(b'\\x00'))\n",
      "\n",
      "During handling of the above exception, another exception occurred:\n",
      "\n",
      "Traceback (most recent call last):\n",
      "  File \"/home/xyz/Program/miniconda3/envs/robot/lib/python3.6/threading.py\", line 916, in _bootstrap_inner\n",
      "    self.run()\n",
      "  File \"/home/xyz/Program/miniconda3/envs/robot/lib/python3.6/threading.py\", line 864, in run\n",
      "    self._target(*self._args, **self._kwargs)\n",
      "  File \"/home/xyz/Program/miniconda3/envs/robot/lib/python3.6/site-packages/pypot/utils/stoppablethread.py\", line 130, in _wrapped_target\n",
      "    self._target()\n",
      "  File \"/home/xyz/Program/miniconda3/envs/robot/lib/python3.6/site-packages/pypot/utils/stoppablethread.py\", line 205, in run\n",
      "    make_update_loop(self, self._update)\n",
      "  File \"/home/xyz/Program/miniconda3/envs/robot/lib/python3.6/site-packages/pypot/utils/stoppablethread.py\", line 175, in make_update_loop\n",
      "    update_func()\n",
      "  File \"/home/xyz/Program/miniconda3/envs/robot/lib/python3.6/site-packages/pypot/dynamixel/controller.py\", line 59, in update\n",
      "    if self.mode == 'get' else\n",
      "  File \"/home/xyz/Program/miniconda3/envs/robot/lib/python3.6/site-packages/pypot/dynamixel/controller.py\", line 72, in get_register\n",
      "    getter(ids))\n",
      "  File \"/home/xyz/Program/miniconda3/envs/robot/lib/python3.6/site-packages/pypot/dynamixel/io/abstract_io.py\", line 358, in my_getter\n",
      "    return self._get_control_value(control, ids, **kwargs)\n",
      "  File \"/home/xyz/Program/miniconda3/envs/robot/lib/python3.6/site-packages/pypot/dynamixel/io/abstract_io.py\", line 413, in _get_control_value\n",
      "    sp = self._send_packet(rp, error_handler=error_handler)\n",
      "  File \"/home/xyz/Program/miniconda3/envs/robot/lib/python3.6/site-packages/pypot/dynamixel/io/abstract_io.py\", line 527, in _send_packet\n",
      "    return self.__real_send(instruction_packet, wait_for_status_packet, _force_lock)\n",
      "  File \"/home/xyz/Program/miniconda3/envs/robot/lib/python3.6/site-packages/pypot/dynamixel/io/abstract_io.py\", line 495, in __real_send\n",
      "    status_packet = self.__real_read(instruction_packet, _force_lock=True)\n",
      "  File \"/home/xyz/Program/miniconda3/envs/robot/lib/python3.6/site-packages/pypot/dynamixel/io/abstract_io.py\", line 517, in __real_read\n",
      "    raise DxlCommunicationError(self, msg, instruction_packet)\n",
      "pypot.dynamixel.io.abstract_io.DxlCommunicationError: could not parse received data bytearray(b'\\x00') after sending DxlReadDataPacket(id=2, address=42, length=1)\n",
      "\n",
      "Exception in thread Thread-18:\n",
      "Traceback (most recent call last):\n",
      "  File \"/home/xyz/Program/miniconda3/envs/robot/lib/python3.6/threading.py\", line 916, in _bootstrap_inner\n",
      "    self.run()\n",
      "  File \"/home/xyz/Program/miniconda3/envs/robot/lib/python3.6/threading.py\", line 864, in run\n",
      "    self._target(*self._args, **self._kwargs)\n",
      "  File \"/home/xyz/Program/miniconda3/envs/robot/lib/python3.6/site-packages/pypot/utils/stoppablethread.py\", line 130, in _wrapped_target\n",
      "    self._target()\n",
      "  File \"/home/xyz/Program/miniconda3/envs/robot/lib/python3.6/site-packages/pypot/utils/stoppablethread.py\", line 205, in run\n",
      "    make_update_loop(self, self._update)\n",
      "  File \"/home/xyz/Program/miniconda3/envs/robot/lib/python3.6/site-packages/pypot/utils/stoppablethread.py\", line 175, in make_update_loop\n",
      "    update_func()\n",
      "  File \"/home/xyz/Program/miniconda3/envs/robot/lib/python3.6/site-packages/pypot/dynamixel/controller.py\", line 60, in update\n",
      "    self.set_register(self.synced_motors))\n",
      "  File \"/home/xyz/Program/miniconda3/envs/robot/lib/python3.6/site-packages/pypot/dynamixel/controller.py\", line 92, in set_register\n",
      "    getattr(self.io, 'set_{}'.format(self.regname))(dict(list(zip(ids, values))))\n",
      "  File \"/home/xyz/Program/miniconda3/envs/robot/lib/python3.6/site-packages/pypot/dynamixel/io/abstract_io.py\", line 368, in my_setter\n",
      "    self._set_control_value(control, value_for_id, **kwargs)\n",
      "  File \"/home/xyz/Program/miniconda3/envs/robot/lib/python3.6/site-packages/pypot/dynamixel/io/abstract_io.py\", line 470, in _set_control_value\n",
      "    self._send_packet(wp, wait_for_status_packet=False)\n",
      "  File \"/home/xyz/Program/miniconda3/envs/robot/lib/python3.6/site-packages/pypot/dynamixel/io/abstract_io.py\", line 527, in _send_packet\n",
      "    return self.__real_send(instruction_packet, wait_for_status_packet, _force_lock)\n",
      "  File \"/home/xyz/Program/miniconda3/envs/robot/lib/python3.6/site-packages/pypot/dynamixel/io/abstract_io.py\", line 483, in __real_send\n",
      "    self.flush(_force_lock=True)\n",
      "  File \"/home/xyz/Program/miniconda3/envs/robot/lib/python3.6/site-packages/pypot/dynamixel/io/abstract_io.py\", line 163, in flush\n",
      "    self._serial.flushInput()\n",
      "  File \"/home/xyz/Program/miniconda3/envs/robot/lib/python3.6/site-packages/serial/serialutil.py\", line 584, in flushInput\n",
      "    self.reset_input_buffer()\n",
      "  File \"/home/xyz/Program/miniconda3/envs/robot/lib/python3.6/site-packages/serial/serialposix.py\", line 595, in reset_input_buffer\n",
      "    termios.tcflush(self.fd, termios.TCIFLUSH)\n",
      "termios.error: (5, 'Input/output error')\n",
      "\n",
      "Exception in thread Thread-17:\n",
      "Traceback (most recent call last):\n",
      "  File \"/home/xyz/Program/miniconda3/envs/robot/lib/python3.6/threading.py\", line 916, in _bootstrap_inner\n",
      "    self.run()\n",
      "  File \"/home/xyz/Program/miniconda3/envs/robot/lib/python3.6/threading.py\", line 864, in run\n",
      "    self._target(*self._args, **self._kwargs)\n",
      "  File \"/home/xyz/Program/miniconda3/envs/robot/lib/python3.6/site-packages/pypot/utils/stoppablethread.py\", line 130, in _wrapped_target\n",
      "    self._target()\n",
      "  File \"/home/xyz/Program/miniconda3/envs/robot/lib/python3.6/site-packages/pypot/utils/stoppablethread.py\", line 205, in run\n",
      "    make_update_loop(self, self._update)\n",
      "  File \"/home/xyz/Program/miniconda3/envs/robot/lib/python3.6/site-packages/pypot/utils/stoppablethread.py\", line 175, in make_update_loop\n",
      "    update_func()\n",
      "  File \"/home/xyz/Program/miniconda3/envs/robot/lib/python3.6/site-packages/pypot/dynamixel/controller.py\", line 60, in update\n",
      "    self.set_register(self.synced_motors))\n",
      "  File \"/home/xyz/Program/miniconda3/envs/robot/lib/python3.6/site-packages/pypot/dynamixel/controller.py\", line 92, in set_register\n",
      "    getattr(self.io, 'set_{}'.format(self.regname))(dict(list(zip(ids, values))))\n",
      "  File \"/home/xyz/Program/miniconda3/envs/robot/lib/python3.6/site-packages/pypot/dynamixel/io/abstract_io.py\", line 368, in my_setter\n",
      "    self._set_control_value(control, value_for_id, **kwargs)\n",
      "  File \"/home/xyz/Program/miniconda3/envs/robot/lib/python3.6/site-packages/pypot/dynamixel/io/abstract_io.py\", line 470, in _set_control_value\n",
      "    self._send_packet(wp, wait_for_status_packet=False)\n",
      "  File \"/home/xyz/Program/miniconda3/envs/robot/lib/python3.6/site-packages/pypot/dynamixel/io/abstract_io.py\", line 527, in _send_packet\n",
      "    return self.__real_send(instruction_packet, wait_for_status_packet, _force_lock)\n",
      "  File \"/home/xyz/Program/miniconda3/envs/robot/lib/python3.6/site-packages/pypot/dynamixel/io/abstract_io.py\", line 483, in __real_send\n",
      "    self.flush(_force_lock=True)\n",
      "  File \"/home/xyz/Program/miniconda3/envs/robot/lib/python3.6/site-packages/pypot/dynamixel/io/abstract_io.py\", line 163, in flush\n",
      "    self._serial.flushInput()\n",
      "  File \"/home/xyz/Program/miniconda3/envs/robot/lib/python3.6/site-packages/serial/serialutil.py\", line 584, in flushInput\n",
      "    self.reset_input_buffer()\n",
      "  File \"/home/xyz/Program/miniconda3/envs/robot/lib/python3.6/site-packages/serial/serialposix.py\", line 595, in reset_input_buffer\n",
      "    termios.tcflush(self.fd, termios.TCIFLUSH)\n",
      "termios.error: (5, 'Input/output error')\n",
      "\n"
     ]
    }
   ],
   "source": [
    "amp = 30\n",
    "freq =0.5\n",
    "t = numpy.arange(0, 10, 0.01)\n",
    "speeds = amp * numpy.cos(2 * numpy.pi * freq * t)\n",
    "\n",
    "positions = []\n",
    "\n",
    "for s in speeds:\n",
    "    for motor in my_robot.motors:\n",
    "        motor.goal_speed = s\n",
    "    positions.append(motor.present_position)\n",
    "    time.sleep(0.05)\n",
    "\n",
    "# By applying a cosinus on the speed\n",
    "# You observe a sinusoid on the position\n",
    "plot(positions)"
   ]
  },
  {
   "cell_type": "code",
   "execution_count": null,
   "metadata": {},
   "outputs": [],
   "source": []
  },
  {
   "cell_type": "code",
   "execution_count": null,
   "metadata": {},
   "outputs": [],
   "source": []
  }
 ],
 "metadata": {
  "kernelspec": {
   "display_name": "Python 3",
   "language": "python",
   "name": "python3"
  },
  "language_info": {
   "codemirror_mode": {
    "name": "ipython",
    "version": 3
   },
   "file_extension": ".py",
   "mimetype": "text/x-python",
   "name": "python",
   "nbconvert_exporter": "python",
   "pygments_lexer": "ipython3",
   "version": "3.6.5"
  }
 },
 "nbformat": 4,
 "nbformat_minor": 2
}
