{
 "cells": [
  {
   "cell_type": "code",
   "execution_count": 1,
   "metadata": {},
   "outputs": [],
   "source": [
    "from pypot.robot.config import ergo_robot_config"
   ]
  },
  {
   "cell_type": "code",
   "execution_count": 2,
   "metadata": {},
   "outputs": [
    {
     "name": "stdout",
     "output_type": "stream",
     "text": [
      "{'controllers': {'my_dxl_controller': {'sync_read': False, 'attached_motors': ['base', 'tip'], 'port': 'auto'}}, 'motorgroups': {'base': ['m1', 'm2', 'm3'], 'tip': ['m4', 'm5', 'm6']}, 'motors': {'m5': {'orientation': 'indirect', 'type': 'MX-28', 'id': 15, 'angle_limit': [-90.0, 90.0], 'offset': 0.0}, 'm4': {'orientation': 'direct', 'type': 'MX-28', 'id': 14, 'angle_limit': [-90.0, 90.0], 'offset': 0.0}, 'm6': {'orientation': 'indirect', 'type': 'MX-28', 'id': 16, 'angle_limit': [-90.0, 90.0], 'offset': 0.0}, 'm1': {'orientation': 'direct', 'type': 'MX-28', 'id': 11, 'angle_limit': [-90.0, 90.0], 'offset': 0.0}, 'm3': {'orientation': 'indirect', 'type': 'MX-28', 'id': 13, 'angle_limit': [-90.0, 90.0], 'offset': 0.0}, 'm2': {'orientation': 'indirect', 'type': 'MX-28', 'id': 12, 'angle_limit': [-90.0, 90.0], 'offset': 0.0}}}\n"
     ]
    }
   ],
   "source": [
    "my_config = dict(ergo_robot_config)\n",
    "print(my_config)"
   ]
  },
  {
   "cell_type": "code",
   "execution_count": 5,
   "metadata": {},
   "outputs": [],
   "source": [
    "import itertools\n",
    "\n",
    "ids = [1,2,3]\n"
   ]
  },
  {
   "cell_type": "code",
   "execution_count": 6,
   "metadata": {},
   "outputs": [],
   "source": [
    "speed = dict(zip(ids, itertools.repeat(200)))"
   ]
  },
  {
   "cell_type": "code",
   "execution_count": 11,
   "metadata": {},
   "outputs": [
    {
     "name": "stdout",
     "output_type": "stream",
     "text": [
      "1 200\n",
      "2 200\n",
      "3 200\n"
     ]
    }
   ],
   "source": [
    "for a, b in zip(ids, itertools.repeat(200)):\n",
    "    print(a, b)\n",
    "    print('-')"
   ]
  },
  {
   "cell_type": "code",
   "execution_count": null,
   "metadata": {},
   "outputs": [],
   "source": []
  }
 ],
 "metadata": {
  "kernelspec": {
   "display_name": "Python 3",
   "language": "python",
   "name": "python3"
  },
  "language_info": {
   "codemirror_mode": {
    "name": "ipython",
    "version": 3
   },
   "file_extension": ".py",
   "mimetype": "text/x-python",
   "name": "python",
   "nbconvert_exporter": "python",
   "pygments_lexer": "ipython3",
   "version": "3.6.5"
  }
 },
 "nbformat": 4,
 "nbformat_minor": 2
}
