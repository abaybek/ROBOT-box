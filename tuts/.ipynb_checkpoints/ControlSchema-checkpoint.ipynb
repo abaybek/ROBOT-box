{
 "cells": [
  {
   "cell_type": "code",
   "execution_count": 1,
   "metadata": {},
   "outputs": [],
   "source": [
    "import itertools\n",
    "import numpy\n",
    "import time\n",
    "\n",
    "import pypot.dynamixel\n",
    "\n",
    "AMP = 30\n",
    "FREQ = 0.5"
   ]
  },
  {
   "cell_type": "code",
   "execution_count": 2,
   "metadata": {},
   "outputs": [
    {
     "name": "stdout",
     "output_type": "stream",
     "text": [
      "available ports: ['/dev/ttyUSB0']\n"
     ]
    }
   ],
   "source": [
    "ports = pypot.dynamixel.get_available_ports()\n",
    "print('available ports:', ports)\n",
    "\n",
    "if not ports:\n",
    "    raise IOError('No port available.')\n"
   ]
  },
  {
   "cell_type": "code",
   "execution_count": null,
   "metadata": {},
   "outputs": [],
   "source": [
    "config = {}\n",
    "config['controllers'] = {}\n",
    "config['controllers']['main'] = {\n",
    "    'port': 'auto',\n",
    "    'attached_motors': ['base', 'steering'],\n",
    "    'sync_read': False\n",
    "}"
   ]
  }
 ],
 "metadata": {
  "kernelspec": {
   "display_name": "Python 3",
   "language": "python",
   "name": "python3"
  },
  "language_info": {
   "codemirror_mode": {
    "name": "ipython",
    "version": 3
   },
   "file_extension": ".py",
   "mimetype": "text/x-python",
   "name": "python",
   "nbconvert_exporter": "python",
   "pygments_lexer": "ipython3",
   "version": "3.6.5"
  }
 },
 "nbformat": 4,
 "nbformat_minor": 2
}
