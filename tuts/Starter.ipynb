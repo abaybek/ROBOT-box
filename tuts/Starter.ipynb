{
 "cells": [
  {
   "cell_type": "markdown",
   "metadata": {},
   "source": [
    "# Install all deps"
   ]
  },
  {
   "cell_type": "code",
   "execution_count": 1,
   "metadata": {},
   "outputs": [],
   "source": [
    "from pypot.vrep import from_vrep\n",
    "from pypot.creatures import PoppyHumanoid"
   ]
  },
  {
   "cell_type": "code",
   "execution_count": 2,
   "metadata": {},
   "outputs": [],
   "source": [
    "poppy = PoppyHumanoid(simulator='vrep')"
   ]
  },
  {
   "cell_type": "code",
   "execution_count": 3,
   "metadata": {},
   "outputs": [
    {
     "data": {
      "text/plain": [
       "[<DxlMotor name=l_elbow_y id=44 pos=0.0>,\n",
       " <DxlMotor name=r_hip_y id=23 pos=-0.0>,\n",
       " <DxlMotor name=r_knee_y id=24 pos=0.0>,\n",
       " <DxlMotor name=head_y id=37 pos=-3.1999999999999993>,\n",
       " <DxlMotor name=r_ankle_y id=25 pos=0.1>,\n",
       " <DxlMotor name=r_arm_z id=53 pos=-0.0>,\n",
       " <DxlMotor name=head_z id=36 pos=-0.0>,\n",
       " <DxlMotor name=r_shoulder_x id=52 pos=-1.0>,\n",
       " <DxlMotor name=r_shoulder_y id=51 pos=0.0>,\n",
       " <DxlMotor name=r_hip_z id=22 pos=-0.0>,\n",
       " <DxlMotor name=r_hip_x id=21 pos=0.3>,\n",
       " <DxlMotor name=r_elbow_y id=54 pos=0.0>,\n",
       " <DxlMotor name=l_arm_z id=43 pos=-0.0>,\n",
       " <DxlMotor name=l_hip_x id=11 pos=-0.3>,\n",
       " <DxlMotor name=l_hip_y id=13 pos=-2.0>,\n",
       " <DxlMotor name=l_hip_z id=12 pos=0.1>,\n",
       " <DxlMotor name=abs_x id=32 pos=0.0>,\n",
       " <DxlMotor name=abs_y id=31 pos=0.1>,\n",
       " <DxlMotor name=abs_z id=33 pos=0.0>,\n",
       " <DxlMotor name=l_ankle_y id=15 pos=0.1>,\n",
       " <DxlMotor name=bust_y id=34 pos=0.2>,\n",
       " <DxlMotor name=bust_x id=35 pos=0.0>,\n",
       " <DxlMotor name=l_knee_y id=14 pos=0.0>,\n",
       " <DxlMotor name=l_shoulder_x id=42 pos=0.4000000000000057>,\n",
       " <DxlMotor name=l_shoulder_y id=41 pos=-0.4000000000000057>]"
      ]
     },
     "execution_count": 3,
     "metadata": {},
     "output_type": "execute_result"
    }
   ],
   "source": [
    "poppy.motors"
   ]
  },
  {
   "cell_type": "code",
   "execution_count": 4,
   "metadata": {},
   "outputs": [
    {
     "data": {
      "text/plain": [
       "<DxlMotor name=r_hip_z id=22 pos=-0.0>"
      ]
     },
     "execution_count": 4,
     "metadata": {},
     "output_type": "execute_result"
    }
   ],
   "source": [
    "poppy.r_hip_z"
   ]
  },
  {
   "cell_type": "code",
   "execution_count": 5,
   "metadata": {},
   "outputs": [
    {
     "data": {
      "text/plain": [
       "-3.1000000000000014"
      ]
     },
     "execution_count": 5,
     "metadata": {},
     "output_type": "execute_result"
    }
   ],
   "source": [
    "poppy.head_y.present_position"
   ]
  },
  {
   "cell_type": "code",
   "execution_count": 6,
   "metadata": {},
   "outputs": [
    {
     "data": {
      "text/plain": [
       "[0.0,\n",
       " -0.0,\n",
       " 0.0,\n",
       " -3.1000000000000014,\n",
       " 0.1,\n",
       " -0.0,\n",
       " -0.0,\n",
       " -1.0,\n",
       " 0.0,\n",
       " -0.0,\n",
       " 0.3,\n",
       " 0.0,\n",
       " -0.0,\n",
       " -0.3,\n",
       " -2.0,\n",
       " 0.1,\n",
       " 0.0,\n",
       " 0.1,\n",
       " -0.0,\n",
       " 0.1,\n",
       " 0.1,\n",
       " 0.0,\n",
       " 0.0,\n",
       " 0.4000000000000057,\n",
       " -0.4000000000000057]"
      ]
     },
     "execution_count": 6,
     "metadata": {},
     "output_type": "execute_result"
    }
   ],
   "source": [
    "[m.present_position for m in poppy.motors]"
   ]
  },
  {
   "cell_type": "code",
   "execution_count": 7,
   "metadata": {},
   "outputs": [
    {
     "data": {
      "text/plain": [
       "{'l_elbow_y': -0.0,\n",
       " 'r_hip_y': -0.0,\n",
       " 'r_knee_y': 0.0,\n",
       " 'head_y': -3.1000000000000014,\n",
       " 'r_ankle_y': 0.2,\n",
       " 'r_arm_z': -0.0,\n",
       " 'head_z': 0.0,\n",
       " 'r_shoulder_x': -1.0,\n",
       " 'r_shoulder_y': 0.0,\n",
       " 'r_hip_z': -0.0,\n",
       " 'r_hip_x': 0.3,\n",
       " 'r_elbow_y': 0.0,\n",
       " 'l_arm_z': -0.0,\n",
       " 'l_hip_x': -0.3,\n",
       " 'l_hip_y': -2.0,\n",
       " 'l_hip_z': 0.1,\n",
       " 'abs_x': 0.0,\n",
       " 'abs_y': 0.1,\n",
       " 'abs_z': -0.0,\n",
       " 'l_ankle_y': 0.1,\n",
       " 'bust_y': 0.1,\n",
       " 'bust_x': 0.0,\n",
       " 'l_knee_y': -0.0,\n",
       " 'l_shoulder_x': 0.4000000000000057,\n",
       " 'l_shoulder_y': -0.4000000000000057}"
      ]
     },
     "execution_count": 7,
     "metadata": {},
     "output_type": "execute_result"
    }
   ],
   "source": [
    "{m.name: m.present_position for m in poppy.motors}"
   ]
  },
  {
   "cell_type": "code",
   "execution_count": 8,
   "metadata": {},
   "outputs": [
    {
     "data": {
      "text/plain": [
       "['r_leg',\n",
       " 'l_leg_sagitall',\n",
       " 'l_leg',\n",
       " 'head',\n",
       " 'r_arm',\n",
       " 'legs',\n",
       " 'torso',\n",
       " 'r_leg_sagitall',\n",
       " 'l_arm',\n",
       " 'arms']"
      ]
     },
     "execution_count": 8,
     "metadata": {},
     "output_type": "execute_result"
    }
   ],
   "source": [
    "poppy.alias\n"
   ]
  },
  {
   "cell_type": "code",
   "execution_count": 9,
   "metadata": {},
   "outputs": [
    {
     "data": {
      "text/plain": [
       "{'r_hip_x': 0.3,\n",
       " 'r_hip_z': -0.0,\n",
       " 'r_hip_y': 0.0,\n",
       " 'r_knee_y': 0.0,\n",
       " 'r_ankle_y': 0.1}"
      ]
     },
     "execution_count": 9,
     "metadata": {},
     "output_type": "execute_result"
    }
   ],
   "source": [
    "{m.name: m.present_position for m in poppy.r_leg}\n"
   ]
  },
  {
   "cell_type": "code",
   "execution_count": 10,
   "metadata": {},
   "outputs": [],
   "source": [
    "poppy.head_z.goal_position = 0"
   ]
  },
  {
   "cell_type": "code",
   "execution_count": 11,
   "metadata": {},
   "outputs": [],
   "source": [
    "poppy.head_z.goal_position = 90"
   ]
  },
  {
   "cell_type": "code",
   "execution_count": 12,
   "metadata": {},
   "outputs": [],
   "source": [
    "poppy.head_z.goal_position = 0"
   ]
  },
  {
   "cell_type": "code",
   "execution_count": 20,
   "metadata": {},
   "outputs": [],
   "source": [
    "for m in poppy.l_arm:\n",
    "    m.goal_position = 30"
   ]
  },
  {
   "cell_type": "code",
   "execution_count": 19,
   "metadata": {},
   "outputs": [],
   "source": [
    "poppy.r_shoulder_x.goal_position = -30\n",
    "# poppy.r_shoulder_x.goal_position = -30"
   ]
  },
  {
   "cell_type": "code",
   "execution_count": 21,
   "metadata": {},
   "outputs": [],
   "source": [
    "poppy.reset_simulation()"
   ]
  },
  {
   "cell_type": "code",
   "execution_count": 23,
   "metadata": {},
   "outputs": [],
   "source": [
    "poppy.head_z.goto_position(0, 10)"
   ]
  },
  {
   "cell_type": "code",
   "execution_count": 29,
   "metadata": {},
   "outputs": [],
   "source": [
    "poppy.head_z.goto_position(45, 2, wait=False)\n",
    "poppy.head_y.goto_position(-30, 2, wait=True)\n",
    "\n",
    "poppy.head_z.goto_position(0, 2, wait=True)\n",
    "\n",
    "poppy.head_y.goto_position(20, 1, wait=True)"
   ]
  },
  {
   "cell_type": "code",
   "execution_count": 25,
   "metadata": {},
   "outputs": [
    {
     "data": {
      "text/plain": [
       "'dummy'"
      ]
     },
     "execution_count": 25,
     "metadata": {},
     "output_type": "execute_result"
    }
   ],
   "source": [
    "poppy.head_y.goto_behavior"
   ]
  },
  {
   "cell_type": "code",
   "execution_count": 38,
   "metadata": {},
   "outputs": [],
   "source": [
    "poppy.head_y.goto_behavior = 'dummy'"
   ]
  },
  {
   "cell_type": "code",
   "execution_count": 30,
   "metadata": {},
   "outputs": [],
   "source": [
    "import time\n",
    "\n",
    "import math\n",
    "\n",
    "amp = 30 # in degrees\n",
    "freq = 0.5 # in Hz\n",
    "\n",
    "t0 = time.time()\n",
    "\n",
    "while True:\n",
    "    t = time.time()\n",
    "    \n",
    "    # run for 10s\n",
    "    if t - t0 > 10:\n",
    "        break\n",
    "\n",
    "    poppy.head_z.goal_position = amp * math.sin(2 * 3.14 * freq * t)\n",
    "    \n",
    "    time.sleep(0.04)\n"
   ]
  },
  {
   "cell_type": "code",
   "execution_count": 39,
   "metadata": {},
   "outputs": [],
   "source": [
    "current, goal = [], []\n",
    "\n",
    "t0 = time.time()\n",
    "\n",
    "while True:\n",
    "    t = time.time()\n",
    "    \n",
    "    # run for 5s\n",
    "    if t - t0 > 10:\n",
    "        break\n",
    "\n",
    "    poppy.head_z.goal_position = amp * math.sin(2 * 3.14 * freq * t)\n",
    "\n",
    "    \n",
    "    current.append(poppy.head_z.present_position)\n",
    "    goal.append(poppy.head_z.goal_position)\n",
    "    \n",
    "    time.sleep(0.04)"
   ]
  },
  {
   "cell_type": "code",
   "execution_count": 40,
   "metadata": {},
   "outputs": [
    {
     "name": "stdout",
     "output_type": "stream",
     "text": [
      "Populating the interactive namespace from numpy and matplotlib\n"
     ]
    },
    {
     "name": "stderr",
     "output_type": "stream",
     "text": [
      "/home/xyz/Program/miniconda3/envs/robot/lib/python3.6/site-packages/IPython/core/magics/pylab.py:160: UserWarning: pylab import has clobbered these variables: ['pylab']\n",
      "`%matplotlib` prevents importing * from pylab and numpy\n",
      "  \"\\n`%matplotlib` prevents importing * from pylab and numpy\"\n"
     ]
    },
    {
     "data": {
      "text/plain": [
       "<matplotlib.legend.Legend at 0x7fb13e4136d8>"
      ]
     },
     "execution_count": 40,
     "metadata": {},
     "output_type": "execute_result"
    },
    {
     "data": {
      "image/png": "[encoded data removed]",
      "text/plain": [
       "<Figure size 432x288 with 1 Axes>"
      ]
     },
     "metadata": {},
     "output_type": "display_data"
    }
   ],
   "source": [
    "import pylab\n",
    "%pylab inline\n",
    "\n",
    "t = linspace(0, 5, len(current))\n",
    "plot(t, goal)\n",
    "plot(t, current)\n",
    "\n",
    "legend(('goal', 'current'))"
   ]
  },
  {
   "cell_type": "code",
   "execution_count": 47,
   "metadata": {},
   "outputs": [
    {
     "data": {
      "text/plain": [
       "[<matplotlib.lines.Line2D at 0x7fb13e2a49b0>]"
      ]
     },
     "execution_count": 47,
     "metadata": {},
     "output_type": "execute_result"
    },
    {
     "data": {
      "image/png": "[encoded data removed]",
      "text/plain": [
       "<Figure size 432x288 with 1 Axes>"
      ]
     },
     "metadata": {},
     "output_type": "display_data"
    }
   ],
   "source": [
    "poppy.l_shoulder_x.goto_behavior = 'minjerk'\n",
    "\n",
    "poppy.l_shoulder_x.goto_position(120, 5)\n",
    "\n",
    "pos = []\n",
    "t0 = time.time()\n",
    "\n",
    "while time.time() - t0 < 5:\n",
    "    pos.append(poppy.l_shoulder_x.present_position)\n",
    "    \n",
    "    time.sleep(0.01)\n",
    "    \n",
    "t = linspace(0, 5, len(pos))\n",
    "plot(t, pos)\n"
   ]
  },
  {
   "cell_type": "code",
   "execution_count": 49,
   "metadata": {},
   "outputs": [
    {
     "data": {
      "text/plain": [
       "[<matplotlib.lines.Line2D at 0x7fb13e2065c0>]"
      ]
     },
     "execution_count": 49,
     "metadata": {},
     "output_type": "execute_result"
    },
    {
     "data": {
      "image/png": "[encoded data removed]",
      "text/plain": [
       "<Figure size 432x288 with 1 Axes>"
      ]
     },
     "metadata": {},
     "output_type": "display_data"
    }
   ],
   "source": [
    "poppy.l_shoulder_x.goto_behavior = 'dummy'\n",
    "\n",
    "poppy.l_shoulder_x.goto_position(120, 5)\n",
    "\n",
    "pos = []\n",
    "t0 = time.time()\n",
    "\n",
    "while time.time() - t0 < 5:\n",
    "    pos.append(poppy.l_shoulder_x.present_position)\n",
    "    \n",
    "    time.sleep(0.01)\n",
    "    \n",
    "t = linspace(0, 5, len(pos))\n",
    "plot(t, pos)\n"
   ]
  },
  {
   "cell_type": "code",
   "execution_count": 48,
   "metadata": {},
   "outputs": [],
   "source": [
    "poppy.l_shoulder_x.goto_position(0, 2)"
   ]
  },
  {
   "cell_type": "code",
   "execution_count": 50,
   "metadata": {},
   "outputs": [
    {
     "data": {
      "text/plain": [
       "[0.3205357789993286, 0.036079537123441696, 0.7700729370117188]"
      ]
     },
     "execution_count": 50,
     "metadata": {},
     "output_type": "execute_result"
    }
   ],
   "source": [
    "poppy.get_object_position('l_forearm_visual')"
   ]
  },
  {
   "cell_type": "code",
   "execution_count": 51,
   "metadata": {},
   "outputs": [
    {
     "data": {
      "text/plain": [
       "[-0.1409701406955719, 0.03259110450744629, -0.2895839214324951]"
      ]
     },
     "execution_count": 51,
     "metadata": {},
     "output_type": "execute_result"
    }
   ],
   "source": [
    "poppy.get_object_position('l_forearm_visual', 'head_visual')\n"
   ]
  },
  {
   "cell_type": "code",
   "execution_count": 52,
   "metadata": {},
   "outputs": [],
   "source": [
    "reached_pt = []\n",
    "\n",
    "for m in poppy.l_arm:\n",
    "    m.goto_behavior = 'minjerk'\n",
    "\n",
    "# We generate 25 random arm configuration\n",
    "# and stores the reached position of the forearm\n",
    "for _ in range(25):\n",
    "    poppy.reset_simulation()\n",
    "    \n",
    "    # Generate a position by setting random position (within the angle limit) to each joint\n",
    "    # This can be hacked to define other exploration\n",
    "    pos = {m.name: randint(min(m.angle_limit), max(m.angle_limit)) for m in poppy.l_arm}    \n",
    "    poppy.goto_position(pos, 2., wait=True)\n",
    "        \n",
    "    reached_pt.append(poppy.get_object_position('l_forearm_visual'))\n"
   ]
  },
  {
   "cell_type": "code",
   "execution_count": 53,
   "metadata": {},
   "outputs": [
    {
     "data": {
      "text/plain": [
       "<mpl_toolkits.mplot3d.art3d.Path3DCollection at 0x7fb13c942c88>"
      ]
     },
     "execution_count": 53,
     "metadata": {},
     "output_type": "execute_result"
    },
    {
     "data": {
      "image/png": "[encoded data removed]",
      "text/plain": [
       "<Figure size 432x288 with 1 Axes>"
      ]
     },
     "metadata": {},
     "output_type": "display_data"
    }
   ],
   "source": [
    "from mpl_toolkits.mplot3d import Axes3D\n",
    "\n",
    "ax = axes(projection='3d')\n",
    "ax.scatter(*array(reached_pt).T)"
   ]
  },
  {
   "cell_type": "code",
   "execution_count": 54,
   "metadata": {},
   "outputs": [],
   "source": [
    "from pypot.primitive.utils import Sinus\n"
   ]
  },
  {
   "cell_type": "code",
   "execution_count": 55,
   "metadata": {},
   "outputs": [],
   "source": [
    "sin_1 = Sinus(poppy, 25., [poppy.head_z, poppy.head_y], amp=15, freq=.15)\n"
   ]
  },
  {
   "cell_type": "code",
   "execution_count": 56,
   "metadata": {},
   "outputs": [],
   "source": [
    "sin_1.start()"
   ]
  },
  {
   "cell_type": "code",
   "execution_count": 57,
   "metadata": {},
   "outputs": [],
   "source": [
    "sin_2 = Sinus(poppy, 25., [poppy.head_z, ], amp=8, freq=.5)\n",
    "sin_2.start()"
   ]
  },
  {
   "cell_type": "code",
   "execution_count": 58,
   "metadata": {},
   "outputs": [],
   "source": [
    "from pypot.primitive import LoopPrimitive\n",
    "\n",
    "class MotorPositionLogger(LoopPrimitive):\n",
    "    def __init__(self, robot, refresh_freq, motor):\n",
    "        LoopPrimitive.__init__(self, robot, refresh_freq)\n",
    "        \n",
    "        self.motor = getattr(self.robot, motor.name)\n",
    "\n",
    "    # This code will be called each time the primitive is started\n",
    "    def setup(self):\n",
    "        self.positions = []\n",
    "       \n",
    "    # This method will be called at the predefined frequency\n",
    "    def update(self):\n",
    "        self.positions.append(self.motor.present_position)\n"
   ]
  },
  {
   "cell_type": "code",
   "execution_count": 59,
   "metadata": {},
   "outputs": [],
   "source": [
    "logger = MotorPositionLogger(poppy, 50, poppy.head_z)\n"
   ]
  },
  {
   "cell_type": "code",
   "execution_count": 60,
   "metadata": {},
   "outputs": [
    {
     "data": {
      "text/plain": [
       "[<matplotlib.lines.Line2D at 0x7fb13c8cf6d8>]"
      ]
     },
     "execution_count": 60,
     "metadata": {},
     "output_type": "execute_result"
    },
    {
     "data": {
      "image/png": "[encoded data removed]",
      "text/plain": [
       "<Figure size 432x288 with 1 Axes>"
      ]
     },
     "metadata": {},
     "output_type": "display_data"
    }
   ],
   "source": [
    "logger.start()\n",
    "\n",
    "time.sleep(10)\n",
    "sin_2.pause()\n",
    "\n",
    "time.sleep(15)\n",
    "sin_2.resume()\n",
    "\n",
    "time.sleep(5)\n",
    "logger.stop()\n",
    "\n",
    "pos = logger.positions\n",
    "\n",
    "plot(linspace(0, 30, len(pos)), pos)"
   ]
  },
  {
   "cell_type": "code",
   "execution_count": 61,
   "metadata": {},
   "outputs": [],
   "source": [
    "for p in poppy.active_primitives:\n",
    "    p.stop()"
   ]
  },
  {
   "cell_type": "code",
   "execution_count": 1,
   "metadata": {},
   "outputs": [],
   "source": [
    "# http://nbviewer.jupyter.org/github/poppy-project/poppy-humanoid/blob/master/software/samples/notebooks/Controlling%20a%20Poppy%20humanoid%20in%20V-REP%20using%20pypot.ipynb\n",
    "# https://github.com/poppy-project/community-notebooks/blob/master/demo/poppy-humanoid_Accessing%20pypot%20REST%20API%20through%20HTTP%20requests.ipynb\n"
   ]
  },
  {
   "cell_type": "code",
   "execution_count": 12,
   "metadata": {},
   "outputs": [
    {
     "name": "stdout",
     "output_type": "stream",
     "text": [
      "[1]\n",
      "(89.3,)\n"
     ]
    }
   ],
   "source": [
    "import itertools\n",
    "from pypot.dynamixel.io import DxlIO\n",
    "\n",
    "with DxlIO('/dev/ttyUSB0') as dxl_io:\n",
    "    ids = dxl_io.scan([1, 2, 3, 4, 5])\n",
    "    print(ids)\n",
    "    print(dxl_io.get_present_position(ids))\n",
    "    dxl_io.set_goal_position(dict(zip(ids, itertools.repeat(-90))))"
   ]
  },
  {
   "cell_type": "code",
   "execution_count": null,
   "metadata": {},
   "outputs": [],
   "source": []
  }
 ],
 "metadata": {
  "kernelspec": {
   "display_name": "Python 3",
   "language": "python",
   "name": "python3"
  },
  "language_info": {
   "codemirror_mode": {
    "name": "ipython",
    "version": 3
   },
   "file_extension": ".py",
   "mimetype": "text/x-python",
   "name": "python",
   "nbconvert_exporter": "python",
   "pygments_lexer": "ipython3",
   "version": "3.6.5"
  }
 },
 "nbformat": 4,
 "nbformat_minor": 2
}
